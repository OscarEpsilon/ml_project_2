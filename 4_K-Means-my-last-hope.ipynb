{
 "cells": [
  {
   "cell_type": "code",
   "execution_count": 16,
   "metadata": {},
   "outputs": [],
   "source": [
    "#imports\n",
    "import pandas as pd\n",
    "import numpy as np\n",
    "import matplotlib.pyplot as plt\n",
    "from sklearn import preprocessing\n",
    "from sklearn.cluster import KMeans \n",
    "from sklearn.metrics import silhouette_score"
   ]
  },
  {
   "cell_type": "code",
   "execution_count": 10,
   "metadata": {},
   "outputs": [
    {
     "name": "stderr",
     "output_type": "stream",
     "text": [
      "/var/folders/np/wt2f_g3s42g_nygnmnbpcswr0000gn/T/ipykernel_45300/750096123.py:3: SettingWithCopyWarning: \n",
      "A value is trying to be set on a copy of a slice from a DataFrame.\n",
      "Try using .loc[row_indexer,col_indexer] = value instead\n",
      "\n",
      "See the caveats in the documentation: https://pandas.pydata.org/pandas-docs/stable/user_guide/indexing.html#returning-a-view-versus-a-copy\n",
      "  df[\"interests\"] = preprocessing.LabelEncoder().fit([\"Sports\", \"Travel\", \"Lifestlye\"]).transform(df[\"interests\"])\n",
      "/var/folders/np/wt2f_g3s42g_nygnmnbpcswr0000gn/T/ipykernel_45300/750096123.py:4: SettingWithCopyWarning: \n",
      "A value is trying to be set on a copy of a slice from a DataFrame.\n",
      "Try using .loc[row_indexer,col_indexer] = value instead\n",
      "\n",
      "See the caveats in the documentation: https://pandas.pydata.org/pandas-docs/stable/user_guide/indexing.html#returning-a-view-versus-a-copy\n",
      "  df[\"profession\"] = preprocessing.LabelEncoder().fit([\"Student\", \"Software Engineer\", \"Marketer Manager\"]).transform(df[\"profession\"]) #these throw harmless warnings.\n",
      "/var/folders/np/wt2f_g3s42g_nygnmnbpcswr0000gn/T/ipykernel_45300/750096123.py:5: SettingWithCopyWarning: \n",
      "A value is trying to be set on a copy of a slice from a DataFrame.\n",
      "Try using .loc[row_indexer,col_indexer] = value instead\n",
      "\n",
      "See the caveats in the documentation: https://pandas.pydata.org/pandas-docs/stable/user_guide/indexing.html#returning-a-view-versus-a-copy\n",
      "  df[\"isHomeOwner\"] = preprocessing.LabelEncoder().fit([\"False\", \"True\"]).transform(df[\"isHomeOwner\"])\n"
     ]
    }
   ],
   "source": [
    "d = pd.read_csv(\"dummy_data.csv\")\n",
    "df = d[[\"time_spent\", \"age\", \"interests\", \"profession\", \"income\", \"isHomeOwner\"]] #culled non-predictive features\n",
    "df[\"interests\"] = preprocessing.LabelEncoder().fit([\"Sports\", \"Travel\", \"Lifestlye\"]).transform(df[\"interests\"])\n",
    "df[\"profession\"] = preprocessing.LabelEncoder().fit([\"Student\", \"Software Engineer\", \"Marketer Manager\"]).transform(df[\"profession\"]) #these throw harmless warnings.\n",
    "df[\"isHomeOwner\"] = preprocessing.LabelEncoder().fit([\"False\", \"True\"]).transform(df[\"isHomeOwner\"])\n",
    "X = df[[\"time_spent\", \"age\", \"interests\", \"profession\", \"income\", \"isHomeOwner\"]].values.astype(float) \n",
    "features = [\"time_spent\", \"age\", \"interests\", \"profession\", \"income\", \"isHomeOwner\"]\n",
    "v = df[features]\n",
    "v = pd.DataFrame(preprocessing.StandardScaler().fit(v).transform(v))\n",
    "v.columns = features"
   ]
  },
  {
   "cell_type": "code",
   "execution_count": 11,
   "metadata": {},
   "outputs": [
    {
     "data": {
      "text/html": [
       "<div>\n",
       "<style scoped>\n",
       "    .dataframe tbody tr th:only-of-type {\n",
       "        vertical-align: middle;\n",
       "    }\n",
       "\n",
       "    .dataframe tbody tr th {\n",
       "        vertical-align: top;\n",
       "    }\n",
       "\n",
       "    .dataframe thead th {\n",
       "        text-align: right;\n",
       "    }\n",
       "</style>\n",
       "<table border=\"1\" class=\"dataframe\">\n",
       "  <thead>\n",
       "    <tr style=\"text-align: right;\">\n",
       "      <th></th>\n",
       "      <th>time_spent</th>\n",
       "      <th>age</th>\n",
       "      <th>interests</th>\n",
       "      <th>profession</th>\n",
       "      <th>income</th>\n",
       "      <th>isHomeOwner</th>\n",
       "    </tr>\n",
       "  </thead>\n",
       "  <tbody>\n",
       "    <tr>\n",
       "      <th>0</th>\n",
       "      <td>-0.799901</td>\n",
       "      <td>1.112882</td>\n",
       "      <td>0.015896</td>\n",
       "      <td>0.056541</td>\n",
       "      <td>1.609380</td>\n",
       "      <td>-1.016130</td>\n",
       "    </tr>\n",
       "    <tr>\n",
       "      <th>1</th>\n",
       "      <td>-1.194135</td>\n",
       "      <td>0.371652</td>\n",
       "      <td>1.238658</td>\n",
       "      <td>1.285703</td>\n",
       "      <td>-1.505106</td>\n",
       "      <td>0.984126</td>\n",
       "    </tr>\n",
       "    <tr>\n",
       "      <th>2</th>\n",
       "      <td>1.171269</td>\n",
       "      <td>-0.666069</td>\n",
       "      <td>0.015896</td>\n",
       "      <td>-1.172620</td>\n",
       "      <td>-0.594094</td>\n",
       "      <td>-1.016130</td>\n",
       "    </tr>\n",
       "    <tr>\n",
       "      <th>3</th>\n",
       "      <td>-0.011433</td>\n",
       "      <td>1.409373</td>\n",
       "      <td>1.238658</td>\n",
       "      <td>1.285703</td>\n",
       "      <td>-0.850422</td>\n",
       "      <td>0.984126</td>\n",
       "    </tr>\n",
       "    <tr>\n",
       "      <th>4</th>\n",
       "      <td>-1.588369</td>\n",
       "      <td>-1.184929</td>\n",
       "      <td>-1.206866</td>\n",
       "      <td>0.056541</td>\n",
       "      <td>-0.151776</td>\n",
       "      <td>0.984126</td>\n",
       "    </tr>\n",
       "  </tbody>\n",
       "</table>\n",
       "</div>"
      ],
      "text/plain": [
       "   time_spent       age  interests  profession    income  isHomeOwner\n",
       "0   -0.799901  1.112882   0.015896    0.056541  1.609380    -1.016130\n",
       "1   -1.194135  0.371652   1.238658    1.285703 -1.505106     0.984126\n",
       "2    1.171269 -0.666069   0.015896   -1.172620 -0.594094    -1.016130\n",
       "3   -0.011433  1.409373   1.238658    1.285703 -0.850422     0.984126\n",
       "4   -1.588369 -1.184929  -1.206866    0.056541 -0.151776     0.984126"
      ]
     },
     "execution_count": 11,
     "metadata": {},
     "output_type": "execute_result"
    }
   ],
   "source": [
    "#inspect our dataframe\n",
    "v.head()"
   ]
  },
  {
   "cell_type": "code",
   "execution_count": 34,
   "metadata": {},
   "outputs": [],
   "source": [
    "acc_list = []\n",
    "for n in range(2, 60):\n",
    "    m = KMeans(init = \"k-means++\", n_clusters = n, n_init = 20).fit(v)\n",
    "    labels = m.labels_\n",
    "    #we use the shilouhette score to determine the best n\n",
    "    acc_list.append(silhouette_score(v, labels, metric = 'euclidean'))\n",
    "a_l_vals = np.array(acc_list)"
   ]
  },
  {
   "cell_type": "code",
   "execution_count": 35,
   "metadata": {},
   "outputs": [
    {
     "data": {
      "image/png": "[encoded data removed]",
      "text/plain": [
       "<Figure size 640x480 with 1 Axes>"
      ]
     },
     "metadata": {},
     "output_type": "display_data"
    }
   ],
   "source": [
    "plt.plot(range(2,60),a_l_vals,'g')\n",
    "plt.show()\n"
   ]
  },
  {
   "cell_type": "code",
   "execution_count": null,
   "metadata": {},
   "outputs": [],
   "source": [
    "#This graph means that aside from 2, there is no good number of k-clusters--\n",
    "#that is, that even K-means can't find anything useful in the data"
   ]
  }
 ],
 "metadata": {
  "kernelspec": {
   "display_name": "Python 3",
   "language": "python",
   "name": "python3"
  },
  "language_info": {
   "codemirror_mode": {
    "name": "ipython",
    "version": 3
   },
   "file_extension": ".py",
   "mimetype": "text/x-python",
   "name": "python",
   "nbconvert_exporter": "python",
   "pygments_lexer": "ipython3",
   "version": "3.11.9"
  }
 },
 "nbformat": 4,
 "nbformat_minor": 2
}
