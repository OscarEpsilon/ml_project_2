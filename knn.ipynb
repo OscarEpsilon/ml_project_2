{
 "cells": [
  {
   "cell_type": "code",
   "execution_count": 1,
   "metadata": {},
   "outputs": [],
   "source": [
    "#imports\n",
    "import pandas as pd\n",
    "import numpy as np\n",
    "import matplotlib.pyplot as plt\n",
    "from sklearn import preprocessing\n",
    "from sklearn.model_selection import train_test_split\n",
    "from sklearn.neighbors import KNeighborsClassifier\n",
    "from sklearn import metrics\n",
    "%matplotlib inline"
   ]
  },
  {
   "cell_type": "code",
   "execution_count": 2,
   "metadata": {},
   "outputs": [],
   "source": [
    "#create file\n",
    "d = pd.read_csv(\"dummy_data.csv\")\n",
    "df = d[[\"time_spent\", \"age\", \"gender\", \"interests\", \"location\", \"demographics\", \"profession\", \"income\", \"indebt\", \"isHomeOwner\", \"Owns_Car\"]]"
   ]
  },
  {
   "cell_type": "code",
   "execution_count": 3,
   "metadata": {},
   "outputs": [
    {
     "name": "stderr",
     "output_type": "stream",
     "text": [
      "/var/folders/np/wt2f_g3s42g_nygnmnbpcswr0000gn/T/ipykernel_10772/2201030753.py:2: SettingWithCopyWarning: \n",
      "A value is trying to be set on a copy of a slice from a DataFrame.\n",
      "Try using .loc[row_indexer,col_indexer] = value instead\n",
      "\n",
      "See the caveats in the documentation: https://pandas.pydata.org/pandas-docs/stable/user_guide/indexing.html#returning-a-view-versus-a-copy\n",
      "  df[\"gender\"] = preprocessing.LabelEncoder().fit([\"male\", \"female\", \"non-binary\"]).transform(df[\"gender\"])\n",
      "/var/folders/np/wt2f_g3s42g_nygnmnbpcswr0000gn/T/ipykernel_10772/2201030753.py:3: SettingWithCopyWarning: \n",
      "A value is trying to be set on a copy of a slice from a DataFrame.\n",
      "Try using .loc[row_indexer,col_indexer] = value instead\n",
      "\n",
      "See the caveats in the documentation: https://pandas.pydata.org/pandas-docs/stable/user_guide/indexing.html#returning-a-view-versus-a-copy\n",
      "  df[\"interests\"] = preprocessing.LabelEncoder().fit([\"Sports\", \"Travel\", \"Lifestlye\"]).transform(df[\"interests\"])\n",
      "/var/folders/np/wt2f_g3s42g_nygnmnbpcswr0000gn/T/ipykernel_10772/2201030753.py:4: SettingWithCopyWarning: \n",
      "A value is trying to be set on a copy of a slice from a DataFrame.\n",
      "Try using .loc[row_indexer,col_indexer] = value instead\n",
      "\n",
      "See the caveats in the documentation: https://pandas.pydata.org/pandas-docs/stable/user_guide/indexing.html#returning-a-view-versus-a-copy\n",
      "  df[\"location\"] = preprocessing.LabelEncoder().fit([\"United States\", \"United Kingdom\", \"Australia\"]).transform(df[\"location\"])\n",
      "/var/folders/np/wt2f_g3s42g_nygnmnbpcswr0000gn/T/ipykernel_10772/2201030753.py:5: SettingWithCopyWarning: \n",
      "A value is trying to be set on a copy of a slice from a DataFrame.\n",
      "Try using .loc[row_indexer,col_indexer] = value instead\n",
      "\n",
      "See the caveats in the documentation: https://pandas.pydata.org/pandas-docs/stable/user_guide/indexing.html#returning-a-view-versus-a-copy\n",
      "  df[\"demographics\"] = preprocessing.LabelEncoder().fit([\"Urban\", \"Sub_Urban\", \"Rural\"]).transform(df[\"demographics\"])\n",
      "/var/folders/np/wt2f_g3s42g_nygnmnbpcswr0000gn/T/ipykernel_10772/2201030753.py:6: SettingWithCopyWarning: \n",
      "A value is trying to be set on a copy of a slice from a DataFrame.\n",
      "Try using .loc[row_indexer,col_indexer] = value instead\n",
      "\n",
      "See the caveats in the documentation: https://pandas.pydata.org/pandas-docs/stable/user_guide/indexing.html#returning-a-view-versus-a-copy\n",
      "  df[\"profession\"] = preprocessing.LabelEncoder().fit([\"Student\", \"Software Engineer\", \"Marketer Manager\"]).transform(df[\"profession\"]) #these throw harmless warnings.\n",
      "/var/folders/np/wt2f_g3s42g_nygnmnbpcswr0000gn/T/ipykernel_10772/2201030753.py:7: SettingWithCopyWarning: \n",
      "A value is trying to be set on a copy of a slice from a DataFrame.\n",
      "Try using .loc[row_indexer,col_indexer] = value instead\n",
      "\n",
      "See the caveats in the documentation: https://pandas.pydata.org/pandas-docs/stable/user_guide/indexing.html#returning-a-view-versus-a-copy\n",
      "  df[\"indebt\"] = preprocessing.LabelEncoder().fit([\"False\", \"True\"]).transform(df[\"indebt\"])\n",
      "/var/folders/np/wt2f_g3s42g_nygnmnbpcswr0000gn/T/ipykernel_10772/2201030753.py:8: SettingWithCopyWarning: \n",
      "A value is trying to be set on a copy of a slice from a DataFrame.\n",
      "Try using .loc[row_indexer,col_indexer] = value instead\n",
      "\n",
      "See the caveats in the documentation: https://pandas.pydata.org/pandas-docs/stable/user_guide/indexing.html#returning-a-view-versus-a-copy\n",
      "  df[\"isHomeOwner\"] = preprocessing.LabelEncoder().fit([\"False\", \"True\"]).transform(df[\"isHomeOwner\"])\n",
      "/var/folders/np/wt2f_g3s42g_nygnmnbpcswr0000gn/T/ipykernel_10772/2201030753.py:9: SettingWithCopyWarning: \n",
      "A value is trying to be set on a copy of a slice from a DataFrame.\n",
      "Try using .loc[row_indexer,col_indexer] = value instead\n",
      "\n",
      "See the caveats in the documentation: https://pandas.pydata.org/pandas-docs/stable/user_guide/indexing.html#returning-a-view-versus-a-copy\n",
      "  df[\"Owns_Car\"] = preprocessing.LabelEncoder().fit([\"False\", \"True\"]).transform(df[\"Owns_Car\"])\n"
     ]
    }
   ],
   "source": [
    "#clean data\n",
    "df[\"gender\"] = preprocessing.LabelEncoder().fit([\"male\", \"female\", \"non-binary\"]).transform(df[\"gender\"])\n",
    "df[\"interests\"] = preprocessing.LabelEncoder().fit([\"Sports\", \"Travel\", \"Lifestlye\"]).transform(df[\"interests\"])\n",
    "df[\"location\"] = preprocessing.LabelEncoder().fit([\"United States\", \"United Kingdom\", \"Australia\"]).transform(df[\"location\"])\n",
    "df[\"demographics\"] = preprocessing.LabelEncoder().fit([\"Urban\", \"Sub_Urban\", \"Rural\"]).transform(df[\"demographics\"])\n",
    "df[\"profession\"] = preprocessing.LabelEncoder().fit([\"Student\", \"Software Engineer\", \"Marketer Manager\"]).transform(df[\"profession\"]) #these throw harmless warnings.\n",
    "df[\"indebt\"] = preprocessing.LabelEncoder().fit([\"False\", \"True\"]).transform(df[\"indebt\"])\n",
    "df[\"isHomeOwner\"] = preprocessing.LabelEncoder().fit([\"False\", \"True\"]).transform(df[\"isHomeOwner\"])\n",
    "df[\"Owns_Car\"] = preprocessing.LabelEncoder().fit([\"False\", \"True\"]).transform(df[\"Owns_Car\"])\n",
    "X = df[[\"time_spent\", \"age\", \"gender\", \"interests\", \"location\", \"demographics\", \"profession\", \"income\", \"indebt\", \"isHomeOwner\", \"Owns_Car\"]].values.astype(float) "
   ]
  },
  {
   "cell_type": "code",
   "execution_count": 4,
   "metadata": {},
   "outputs": [],
   "source": [
    "#make variable arrays\n",
    "deps = df[[\"age\", \"gender\", \"interests\", \"location\", \"demographics\", \"profession\", \"income\", \"indebt\", \"isHomeOwner\", \"Owns_Car\"]]\n",
    "ind = df[[\"time_spent\"]]"
   ]
  },
  {
   "cell_type": "code",
   "execution_count": 5,
   "metadata": {},
   "outputs": [],
   "source": [
    "#normalize data\n",
    "deps = preprocessing.StandardScaler().fit(deps).transform(deps.astype(float))\n"
   ]
  },
  {
   "cell_type": "code",
   "execution_count": 6,
   "metadata": {},
   "outputs": [
    {
     "data": {
      "text/plain": [
       "array([[ 1.11288175e+00, -1.22812780e-03,  1.58959012e-02,\n",
       "         4.03185946e-02,  1.24488348e+00,  5.65414433e-02,\n",
       "         1.60938044e+00,  1.00601811e+00, -1.01613007e+00,\n",
       "        -1.08129432e+00],\n",
       "       [ 3.71652397e-01, -1.22935593e+00,  1.23865753e+00,\n",
       "         4.03185946e-02,  1.24488348e+00,  1.28570325e+00,\n",
       "        -1.50510634e+00,  1.00601811e+00,  9.84125976e-01,\n",
       "         9.24817587e-01],\n",
       "       [-6.66068696e-01, -1.22812780e-03,  1.58959012e-02,\n",
       "        -1.18145700e+00,  1.83972928e-02, -1.17262037e+00,\n",
       "        -5.94093593e-01, -9.94017892e-01, -1.01613007e+00,\n",
       "        -1.08129432e+00],\n",
       "       [ 1.40937349e+00,  1.22689968e+00,  1.23865753e+00,\n",
       "         4.03185946e-02,  1.24488348e+00,  1.28570325e+00,\n",
       "        -8.50421603e-01, -9.94017892e-01,  9.84125976e-01,\n",
       "        -1.08129432e+00],\n",
       "       [-1.18492924e+00, -1.22812780e-03, -1.20686573e+00,\n",
       "        -1.18145700e+00,  1.24488348e+00,  5.65414433e-02,\n",
       "        -1.51775602e-01, -9.94017892e-01,  9.84125976e-01,\n",
       "         9.24817587e-01]])"
      ]
     },
     "execution_count": 6,
     "metadata": {},
     "output_type": "execute_result"
    }
   ],
   "source": [
    "#inspect data\n",
    "deps[0:5]"
   ]
  },
  {
   "cell_type": "code",
   "execution_count": 7,
   "metadata": {},
   "outputs": [],
   "source": [
    "#split data\n",
    "train_d, test_d, train_i, test_i = train_test_split( deps, ind, test_size=0.2, random_state=4)"
   ]
  },
  {
   "cell_type": "code",
   "execution_count": 8,
   "metadata": {},
   "outputs": [],
   "source": [
    "acc_list = []\n",
    "for k in range(2, 500): #this loop finds the the accuracy for 2<k<200\n",
    "    m = KNeighborsClassifier(n_neighbors = k).fit(train_d, np.ravel(train_i)) #fits a model for k = k\n",
    "    yhat = m.predict(test_d)  #generates predictions for model m on test set\n",
    "    acc = metrics.accuracy_score(test_i, yhat) #gets accuracy score on test set\n",
    "    acc_list.append(acc)"
   ]
  },
  {
   "cell_type": "code",
   "execution_count": 9,
   "metadata": {},
   "outputs": [
    {
     "data": {
      "text/plain": [
       "0.195"
      ]
     },
     "execution_count": 9,
     "metadata": {},
     "output_type": "execute_result"
    }
   ],
   "source": [
    "max(acc_list)"
   ]
  },
  {
   "cell_type": "code",
   "execution_count": 10,
   "metadata": {},
   "outputs": [],
   "source": [
    "#so it sucks. not all is lost, though, we can do less..."
   ]
  },
  {
   "cell_type": "code",
   "execution_count": 11,
   "metadata": {},
   "outputs": [],
   "source": [
    "#let's try just with respect to age and income\n",
    "deps2 = df[[\"age\", \"income\"]]\n",
    "#make another split\n",
    "train_d2, test_d2, train_i, test_i = train_test_split( deps2, ind, test_size=0.2, random_state=4)"
   ]
  },
  {
   "cell_type": "code",
   "execution_count": 12,
   "metadata": {},
   "outputs": [],
   "source": [
    "#do it again\n",
    "acc_list2 = []\n",
    "for k in range(2, 500): #this loop finds the the accuracy for 2<k<200\n",
    "    m = KNeighborsClassifier(n_neighbors = k).fit(train_d2, np.ravel(train_i)) #fits a model for k = k\n",
    "    yhat = m.predict(test_d2)  #generates predictions for model m on test set\n",
    "    acc = metrics.accuracy_score(test_i, yhat) #gets accuracy score on test set\n",
    "    acc_list2.append(acc)"
   ]
  },
  {
   "cell_type": "code",
   "execution_count": 13,
   "metadata": {},
   "outputs": [
    {
     "data": {
      "text/plain": [
       "0.195"
      ]
     },
     "execution_count": 13,
     "metadata": {},
     "output_type": "execute_result"
    }
   ],
   "source": [
    "max(acc_list2)"
   ]
  },
  {
   "cell_type": "code",
   "execution_count": null,
   "metadata": {},
   "outputs": [],
   "source": [
    "#oh, right. You can make fun of me now"
   ]
  }
 ],
 "metadata": {
  "kernelspec": {
   "display_name": "Python 3",
   "language": "python",
   "name": "python3"
  },
  "language_info": {
   "codemirror_mode": {
    "name": "ipython",
    "version": 3
   },
   "file_extension": ".py",
   "mimetype": "text/x-python",
   "name": "python",
   "nbconvert_exporter": "python",
   "pygments_lexer": "ipython3",
   "version": "3.11.9"
  }
 },
 "nbformat": 4,
 "nbformat_minor": 2
}
