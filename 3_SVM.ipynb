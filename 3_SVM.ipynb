{
 "cells": [
  {
   "cell_type": "code",
   "execution_count": 2,
   "metadata": {},
   "outputs": [],
   "source": [
    "#imports\n",
    "import pandas as pd\n",
    "import numpy as np\n",
    "import matplotlib.pyplot as plt\n",
    "from sklearn import preprocessing\n",
    "from sklearn.model_selection import train_test_split\n",
    "from sklearn import metrics\n",
    "from itertools import combinations #will told me about this\n",
    "import scipy.optimize as opt\n",
    "from sklearn import svm\n",
    "from sklearn.metrics import f1_score\n",
    "from sklearn.metrics import jaccard_score\n",
    "\n",
    "%matplotlib inline"
   ]
  },
  {
   "cell_type": "code",
   "execution_count": 3,
   "metadata": {},
   "outputs": [
    {
     "name": "stderr",
     "output_type": "stream",
     "text": [
      "/var/folders/np/wt2f_g3s42g_nygnmnbpcswr0000gn/T/ipykernel_44851/926083657.py:4: SettingWithCopyWarning: \n",
      "A value is trying to be set on a copy of a slice from a DataFrame.\n",
      "Try using .loc[row_indexer,col_indexer] = value instead\n",
      "\n",
      "See the caveats in the documentation: https://pandas.pydata.org/pandas-docs/stable/user_guide/indexing.html#returning-a-view-versus-a-copy\n",
      "  df[\"gender\"] = preprocessing.LabelEncoder().fit([\"male\", \"female\", \"non-binary\"]).transform(df[\"gender\"])\n",
      "/var/folders/np/wt2f_g3s42g_nygnmnbpcswr0000gn/T/ipykernel_44851/926083657.py:5: SettingWithCopyWarning: \n",
      "A value is trying to be set on a copy of a slice from a DataFrame.\n",
      "Try using .loc[row_indexer,col_indexer] = value instead\n",
      "\n",
      "See the caveats in the documentation: https://pandas.pydata.org/pandas-docs/stable/user_guide/indexing.html#returning-a-view-versus-a-copy\n",
      "  df[\"interests\"] = preprocessing.LabelEncoder().fit([\"Sports\", \"Travel\", \"Lifestlye\"]).transform(df[\"interests\"])\n",
      "/var/folders/np/wt2f_g3s42g_nygnmnbpcswr0000gn/T/ipykernel_44851/926083657.py:6: SettingWithCopyWarning: \n",
      "A value is trying to be set on a copy of a slice from a DataFrame.\n",
      "Try using .loc[row_indexer,col_indexer] = value instead\n",
      "\n",
      "See the caveats in the documentation: https://pandas.pydata.org/pandas-docs/stable/user_guide/indexing.html#returning-a-view-versus-a-copy\n",
      "  df[\"location\"] = preprocessing.LabelEncoder().fit([\"United States\", \"United Kingdom\", \"Australia\"]).transform(df[\"location\"])\n",
      "/var/folders/np/wt2f_g3s42g_nygnmnbpcswr0000gn/T/ipykernel_44851/926083657.py:7: SettingWithCopyWarning: \n",
      "A value is trying to be set on a copy of a slice from a DataFrame.\n",
      "Try using .loc[row_indexer,col_indexer] = value instead\n",
      "\n",
      "See the caveats in the documentation: https://pandas.pydata.org/pandas-docs/stable/user_guide/indexing.html#returning-a-view-versus-a-copy\n",
      "  df[\"demographics\"] = preprocessing.LabelEncoder().fit([\"Urban\", \"Sub_Urban\", \"Rural\"]).transform(df[\"demographics\"])\n",
      "/var/folders/np/wt2f_g3s42g_nygnmnbpcswr0000gn/T/ipykernel_44851/926083657.py:8: SettingWithCopyWarning: \n",
      "A value is trying to be set on a copy of a slice from a DataFrame.\n",
      "Try using .loc[row_indexer,col_indexer] = value instead\n",
      "\n",
      "See the caveats in the documentation: https://pandas.pydata.org/pandas-docs/stable/user_guide/indexing.html#returning-a-view-versus-a-copy\n",
      "  df[\"profession\"] = preprocessing.LabelEncoder().fit([\"Student\", \"Software Engineer\", \"Marketer Manager\"]).transform(df[\"profession\"]) #these throw harmless warnings.\n",
      "/var/folders/np/wt2f_g3s42g_nygnmnbpcswr0000gn/T/ipykernel_44851/926083657.py:9: SettingWithCopyWarning: \n",
      "A value is trying to be set on a copy of a slice from a DataFrame.\n",
      "Try using .loc[row_indexer,col_indexer] = value instead\n",
      "\n",
      "See the caveats in the documentation: https://pandas.pydata.org/pandas-docs/stable/user_guide/indexing.html#returning-a-view-versus-a-copy\n",
      "  df[\"indebt\"] = preprocessing.LabelEncoder().fit([\"False\", \"True\"]).transform(df[\"indebt\"])\n",
      "/var/folders/np/wt2f_g3s42g_nygnmnbpcswr0000gn/T/ipykernel_44851/926083657.py:10: SettingWithCopyWarning: \n",
      "A value is trying to be set on a copy of a slice from a DataFrame.\n",
      "Try using .loc[row_indexer,col_indexer] = value instead\n",
      "\n",
      "See the caveats in the documentation: https://pandas.pydata.org/pandas-docs/stable/user_guide/indexing.html#returning-a-view-versus-a-copy\n",
      "  df[\"isHomeOwner\"] = preprocessing.LabelEncoder().fit([\"False\", \"True\"]).transform(df[\"isHomeOwner\"])\n",
      "/var/folders/np/wt2f_g3s42g_nygnmnbpcswr0000gn/T/ipykernel_44851/926083657.py:11: SettingWithCopyWarning: \n",
      "A value is trying to be set on a copy of a slice from a DataFrame.\n",
      "Try using .loc[row_indexer,col_indexer] = value instead\n",
      "\n",
      "See the caveats in the documentation: https://pandas.pydata.org/pandas-docs/stable/user_guide/indexing.html#returning-a-view-versus-a-copy\n",
      "  df[\"Owns_Car\"] = preprocessing.LabelEncoder().fit([\"False\", \"True\"]).transform(df[\"Owns_Car\"])\n"
     ]
    }
   ],
   "source": [
    "#create and clean data (I just did this before, I don't need to explain each step again)\n",
    "d = pd.read_csv(\"dummy_data.csv\")\n",
    "df = d[[\"time_spent\", \"age\", \"gender\", \"interests\", \"location\", \"demographics\", \"profession\", \"income\", \"indebt\", \"isHomeOwner\", \"Owns_Car\"]]\n",
    "df[\"gender\"] = preprocessing.LabelEncoder().fit([\"male\", \"female\", \"non-binary\"]).transform(df[\"gender\"])\n",
    "df[\"interests\"] = preprocessing.LabelEncoder().fit([\"Sports\", \"Travel\", \"Lifestlye\"]).transform(df[\"interests\"])\n",
    "df[\"location\"] = preprocessing.LabelEncoder().fit([\"United States\", \"United Kingdom\", \"Australia\"]).transform(df[\"location\"])\n",
    "df[\"demographics\"] = preprocessing.LabelEncoder().fit([\"Urban\", \"Sub_Urban\", \"Rural\"]).transform(df[\"demographics\"])\n",
    "df[\"profession\"] = preprocessing.LabelEncoder().fit([\"Student\", \"Software Engineer\", \"Marketer Manager\"]).transform(df[\"profession\"]) #these throw harmless warnings.\n",
    "df[\"indebt\"] = preprocessing.LabelEncoder().fit([\"False\", \"True\"]).transform(df[\"indebt\"])\n",
    "df[\"isHomeOwner\"] = preprocessing.LabelEncoder().fit([\"False\", \"True\"]).transform(df[\"isHomeOwner\"])\n",
    "df[\"Owns_Car\"] = preprocessing.LabelEncoder().fit([\"False\", \"True\"]).transform(df[\"Owns_Car\"])\n",
    "X = df[[\"time_spent\", \"age\", \"gender\", \"interests\", \"location\", \"demographics\", \"profession\", \"income\", \"indebt\", \"isHomeOwner\", \"Owns_Car\"]].values.astype(float) \n",
    "features = [\"age\", \"gender\", \"interests\", \"demographics\", \"profession\", \"income\", \"indebt\", \"isHomeOwner\", \"Owns_Car\"]\n",
    "ind = df[features]\n",
    "deps = df[[\"time_spent\"]]\n",
    "ind = pd.DataFrame(preprocessing.StandardScaler().fit(ind).transform(ind))\n",
    "ind.columns = features"
   ]
  },
  {
   "cell_type": "code",
   "execution_count": 4,
   "metadata": {},
   "outputs": [
    {
     "data": {
      "text/html": [
       "<div>\n",
       "<style scoped>\n",
       "    .dataframe tbody tr th:only-of-type {\n",
       "        vertical-align: middle;\n",
       "    }\n",
       "\n",
       "    .dataframe tbody tr th {\n",
       "        vertical-align: top;\n",
       "    }\n",
       "\n",
       "    .dataframe thead th {\n",
       "        text-align: right;\n",
       "    }\n",
       "</style>\n",
       "<table border=\"1\" class=\"dataframe\">\n",
       "  <thead>\n",
       "    <tr style=\"text-align: right;\">\n",
       "      <th></th>\n",
       "      <th>age</th>\n",
       "      <th>gender</th>\n",
       "      <th>interests</th>\n",
       "      <th>demographics</th>\n",
       "      <th>profession</th>\n",
       "      <th>income</th>\n",
       "      <th>indebt</th>\n",
       "      <th>isHomeOwner</th>\n",
       "      <th>Owns_Car</th>\n",
       "    </tr>\n",
       "  </thead>\n",
       "  <tbody>\n",
       "    <tr>\n",
       "      <th>0</th>\n",
       "      <td>1.112882</td>\n",
       "      <td>-0.001228</td>\n",
       "      <td>0.015896</td>\n",
       "      <td>1.244883</td>\n",
       "      <td>0.056541</td>\n",
       "      <td>1.609380</td>\n",
       "      <td>1.006018</td>\n",
       "      <td>-1.016130</td>\n",
       "      <td>-1.081294</td>\n",
       "    </tr>\n",
       "    <tr>\n",
       "      <th>1</th>\n",
       "      <td>0.371652</td>\n",
       "      <td>-1.229356</td>\n",
       "      <td>1.238658</td>\n",
       "      <td>1.244883</td>\n",
       "      <td>1.285703</td>\n",
       "      <td>-1.505106</td>\n",
       "      <td>1.006018</td>\n",
       "      <td>0.984126</td>\n",
       "      <td>0.924818</td>\n",
       "    </tr>\n",
       "    <tr>\n",
       "      <th>2</th>\n",
       "      <td>-0.666069</td>\n",
       "      <td>-0.001228</td>\n",
       "      <td>0.015896</td>\n",
       "      <td>0.018397</td>\n",
       "      <td>-1.172620</td>\n",
       "      <td>-0.594094</td>\n",
       "      <td>-0.994018</td>\n",
       "      <td>-1.016130</td>\n",
       "      <td>-1.081294</td>\n",
       "    </tr>\n",
       "    <tr>\n",
       "      <th>3</th>\n",
       "      <td>1.409373</td>\n",
       "      <td>1.226900</td>\n",
       "      <td>1.238658</td>\n",
       "      <td>1.244883</td>\n",
       "      <td>1.285703</td>\n",
       "      <td>-0.850422</td>\n",
       "      <td>-0.994018</td>\n",
       "      <td>0.984126</td>\n",
       "      <td>-1.081294</td>\n",
       "    </tr>\n",
       "    <tr>\n",
       "      <th>4</th>\n",
       "      <td>-1.184929</td>\n",
       "      <td>-0.001228</td>\n",
       "      <td>-1.206866</td>\n",
       "      <td>1.244883</td>\n",
       "      <td>0.056541</td>\n",
       "      <td>-0.151776</td>\n",
       "      <td>-0.994018</td>\n",
       "      <td>0.984126</td>\n",
       "      <td>0.924818</td>\n",
       "    </tr>\n",
       "  </tbody>\n",
       "</table>\n",
       "</div>"
      ],
      "text/plain": [
       "        age    gender  interests  demographics  profession    income  \\\n",
       "0  1.112882 -0.001228   0.015896      1.244883    0.056541  1.609380   \n",
       "1  0.371652 -1.229356   1.238658      1.244883    1.285703 -1.505106   \n",
       "2 -0.666069 -0.001228   0.015896      0.018397   -1.172620 -0.594094   \n",
       "3  1.409373  1.226900   1.238658      1.244883    1.285703 -0.850422   \n",
       "4 -1.184929 -0.001228  -1.206866      1.244883    0.056541 -0.151776   \n",
       "\n",
       "     indebt  isHomeOwner  Owns_Car  \n",
       "0  1.006018    -1.016130 -1.081294  \n",
       "1  1.006018     0.984126  0.924818  \n",
       "2 -0.994018    -1.016130 -1.081294  \n",
       "3 -0.994018     0.984126 -1.081294  \n",
       "4 -0.994018     0.984126  0.924818  "
      ]
     },
     "execution_count": 4,
     "metadata": {},
     "output_type": "execute_result"
    }
   ],
   "source": [
    "#inspect our independent variables\n",
    "ind.head()"
   ]
  },
  {
   "cell_type": "code",
   "execution_count": 5,
   "metadata": {},
   "outputs": [
    {
     "name": "stdout",
     "output_type": "stream",
     "text": [
      "<bound method NDFrame.head of      time_spent\n",
      "0             3\n",
      "1             2\n",
      "2             8\n",
      "3             5\n",
      "4             1\n",
      "..          ...\n",
      "995           8\n",
      "996           6\n",
      "997           5\n",
      "998           4\n",
      "999           8\n",
      "\n",
      "[1000 rows x 1 columns]>\n"
     ]
    },
    {
     "data": {
      "text/plain": [
       "array([0, 0, 1, 1, 0])"
      ]
     },
     "execution_count": 5,
     "metadata": {},
     "output_type": "execute_result"
    }
   ],
   "source": [
    "#again, we should make the dependent variable binary\n",
    "print(deps.head)\n",
    "new_deps = []\n",
    "for cat in deps.time_spent:\n",
    "    if int(cat) > 4: new_deps.append(1)\n",
    "    else: new_deps.append(0)\n",
    "new_deps = np.asarray(new_deps)\n",
    "new_deps[0:5]"
   ]
  },
  {
   "cell_type": "code",
   "execution_count": 6,
   "metadata": {},
   "outputs": [],
   "source": [
    "feature_combs = []\n",
    "for length in range(1, len(features) + 1):\n",
    "    feature_combs.extend(list(combinations(features, length)))"
   ]
  },
  {
   "cell_type": "code",
   "execution_count": 7,
   "metadata": {},
   "outputs": [],
   "source": [
    "acc_list = []\n",
    "for comb in feature_combs:\n",
    "    comb_ind = ind[list(comb)]\n",
    "    train_d, test_d, train_i, test_i = train_test_split(new_deps, comb_ind, test_size=0.2, random_state=5) #split data\n",
    "    m = svm.SVC(kernel='rbf').fit(train_i,train_d)\n",
    "    yhat = m.predict(test_i)  #generates predictions for model m on test set\n",
    "    acc = metrics.accuracy_score(test_d, yhat) #gets accuracy score on test set\n",
    "    acc_list.append([acc, comb])"
   ]
  },
  {
   "cell_type": "code",
   "execution_count": 8,
   "metadata": {},
   "outputs": [
    {
     "data": {
      "text/plain": [
       "[0.645, ('age', 'interests', 'profession', 'income', 'isHomeOwner')]"
      ]
     },
     "execution_count": 8,
     "metadata": {},
     "output_type": "execute_result"
    }
   ],
   "source": [
    "max(acc_list)"
   ]
  },
  {
   "cell_type": "code",
   "execution_count": 9,
   "metadata": {},
   "outputs": [],
   "source": [
    "train_d, test_d, train_i, test_i = train_test_split(new_deps, ind[list((\"age\", \"interests\", \"profession\", \"income\", \"isHomeOwner\"))], test_size=0.2, random_state=5)\n",
    "m = svm.SVC(kernel='rbf').fit(train_i,train_d)"
   ]
  },
  {
   "cell_type": "code",
   "execution_count": 10,
   "metadata": {},
   "outputs": [
    {
     "name": "stdout",
     "output_type": "stream",
     "text": [
      "              precision    recall  f1-score   support\n",
      "\n",
      "           0       0.45      0.27      0.34        84\n",
      "           1       0.59      0.76      0.66       116\n",
      "\n",
      "    accuracy                           0.56       200\n",
      "   macro avg       0.52      0.52      0.50       200\n",
      "weighted avg       0.53      0.56      0.53       200\n",
      "\n",
      "Normalized confusion matrix\n",
      "[[0.27 0.73]\n",
      " [0.24 0.76]]\n"
     ]
    },
    {
     "data": {
      "image/png": "[encoded data removed]",
      "text/plain": [
       "<Figure size 640x480 with 2 Axes>"
      ]
     },
     "metadata": {},
     "output_type": "display_data"
    }
   ],
   "source": [
    "#THIS IS NOT MY CODE, THIS IS FROM A LAB\n",
    "from sklearn.metrics import classification_report, confusion_matrix\n",
    "import itertools\n",
    "def plot_confusion_matrix(cm, classes,\n",
    "                          normalize=False,\n",
    "                          title='Confusion matrix',\n",
    "                          cmap=plt.cm.Blues):\n",
    "    \"\"\"\n",
    "    This function prints and plots the confusion matrix.\n",
    "    Normalization can be applied by setting `normalize=True`.\n",
    "    \"\"\"\n",
    "    if normalize:\n",
    "        cm = cm.astype('float') / cm.sum(axis=1)[:, np.newaxis]\n",
    "        print(\"Normalized confusion matrix\")\n",
    "    else:\n",
    "        print('Confusion matrix, without normalization')\n",
    "\n",
    "    print(cm)\n",
    "\n",
    "    plt.imshow(cm, interpolation='nearest', cmap=cmap)\n",
    "    plt.title(title)\n",
    "    plt.colorbar()\n",
    "    tick_marks = np.arange(len(classes))\n",
    "    plt.xticks(tick_marks, classes, rotation=45)\n",
    "    plt.yticks(tick_marks, classes)\n",
    "\n",
    "    fmt = '.2f' if normalize else 'd'\n",
    "    thresh = cm.max() / 2.\n",
    "    for i, j in itertools.product(range(cm.shape[0]), range(cm.shape[1])):\n",
    "        plt.text(j, i, format(cm[i, j], fmt),\n",
    "                 horizontalalignment=\"center\",\n",
    "                 color=\"white\" if cm[i, j] > thresh else \"black\")\n",
    "\n",
    "    plt.tight_layout()\n",
    "    plt.ylabel('True label')\n",
    "    plt.xlabel('Predicted label')\n",
    "\n",
    "cnf_matrix = confusion_matrix(test_d, yhat, labels=[0,1])\n",
    "np.set_printoptions(precision=2)\n",
    "\n",
    "print (classification_report(test_d, yhat))\n",
    "\n",
    "# Plot non-normalized confusion matrix\n",
    "plt.figure()\n",
    "plot_confusion_matrix(cnf_matrix, classes=['<5 Hours(0)','>=5 Hours(1)'],normalize= True,  title='Confusion matrix')"
   ]
  },
  {
   "cell_type": "code",
   "execution_count": 12,
   "metadata": {},
   "outputs": [
    {
     "name": "stdout",
     "output_type": "stream",
     "text": [
      "0.4971751412429379\n"
     ]
    },
    {
     "data": {
      "text/plain": [
       "0.5283186582809224"
      ]
     },
     "execution_count": 12,
     "metadata": {},
     "output_type": "execute_result"
    }
   ],
   "source": [
    "#let's check the other metrics:\n",
    "print(jaccard_score(test_d, yhat))\n",
    "f1_score(test_d, yhat, average='weighted') "
   ]
  },
  {
   "cell_type": "code",
   "execution_count": null,
   "metadata": {},
   "outputs": [],
   "source": [
    "#these are also really bad."
   ]
  }
 ],
 "metadata": {
  "kernelspec": {
   "display_name": "Python 3",
   "language": "python",
   "name": "python3"
  },
  "language_info": {
   "codemirror_mode": {
    "name": "ipython",
    "version": 3
   },
   "file_extension": ".py",
   "mimetype": "text/x-python",
   "name": "python",
   "nbconvert_exporter": "python",
   "pygments_lexer": "ipython3",
   "version": "3.11.9"
  }
 },
 "nbformat": 4,
 "nbformat_minor": 2
}
