{
 "cells": [
  {
   "cell_type": "markdown",
   "metadata": {},
   "source": [
    "***Correlating screen time with other factors***"
   ]
  },
  {
   "cell_type": "code",
   "execution_count": 2,
   "metadata": {},
   "outputs": [],
   "source": [
    "#imports\n",
    "import pandas as pd\n",
    "import numpy as np\n",
    "import matplotlib.pyplot as plt\n",
    "from sklearn import preprocessing\n",
    "from sklearn.model_selection import train_test_split\n",
    "from sklearn.neighbors import KNeighborsClassifier\n",
    "from sklearn import metrics\n",
    "from itertools import combinations #will told me about this\n",
    "%matplotlib inline"
   ]
  },
  {
   "cell_type": "code",
   "execution_count": 3,
   "metadata": {},
   "outputs": [
    {
     "data": {
      "text/html": [
       "<div>\n",
       "<style scoped>\n",
       "    .dataframe tbody tr th:only-of-type {\n",
       "        vertical-align: middle;\n",
       "    }\n",
       "\n",
       "    .dataframe tbody tr th {\n",
       "        vertical-align: top;\n",
       "    }\n",
       "\n",
       "    .dataframe thead th {\n",
       "        text-align: right;\n",
       "    }\n",
       "</style>\n",
       "<table border=\"1\" class=\"dataframe\">\n",
       "  <thead>\n",
       "    <tr style=\"text-align: right;\">\n",
       "      <th></th>\n",
       "      <th>time_spent</th>\n",
       "      <th>age</th>\n",
       "      <th>gender</th>\n",
       "      <th>interests</th>\n",
       "      <th>location</th>\n",
       "      <th>demographics</th>\n",
       "      <th>profession</th>\n",
       "      <th>income</th>\n",
       "      <th>indebt</th>\n",
       "      <th>isHomeOwner</th>\n",
       "      <th>Owns_Car</th>\n",
       "    </tr>\n",
       "  </thead>\n",
       "  <tbody>\n",
       "    <tr>\n",
       "      <th>0</th>\n",
       "      <td>3</td>\n",
       "      <td>56</td>\n",
       "      <td>male</td>\n",
       "      <td>Sports</td>\n",
       "      <td>United Kingdom</td>\n",
       "      <td>Urban</td>\n",
       "      <td>Software Engineer</td>\n",
       "      <td>19774</td>\n",
       "      <td>True</td>\n",
       "      <td>False</td>\n",
       "      <td>False</td>\n",
       "    </tr>\n",
       "    <tr>\n",
       "      <th>1</th>\n",
       "      <td>2</td>\n",
       "      <td>46</td>\n",
       "      <td>female</td>\n",
       "      <td>Travel</td>\n",
       "      <td>United Kingdom</td>\n",
       "      <td>Urban</td>\n",
       "      <td>Student</td>\n",
       "      <td>10564</td>\n",
       "      <td>True</td>\n",
       "      <td>True</td>\n",
       "      <td>True</td>\n",
       "    </tr>\n",
       "    <tr>\n",
       "      <th>2</th>\n",
       "      <td>8</td>\n",
       "      <td>32</td>\n",
       "      <td>male</td>\n",
       "      <td>Sports</td>\n",
       "      <td>Australia</td>\n",
       "      <td>Sub_Urban</td>\n",
       "      <td>Marketer Manager</td>\n",
       "      <td>13258</td>\n",
       "      <td>False</td>\n",
       "      <td>False</td>\n",
       "      <td>False</td>\n",
       "    </tr>\n",
       "    <tr>\n",
       "      <th>3</th>\n",
       "      <td>5</td>\n",
       "      <td>60</td>\n",
       "      <td>non-binary</td>\n",
       "      <td>Travel</td>\n",
       "      <td>United Kingdom</td>\n",
       "      <td>Urban</td>\n",
       "      <td>Student</td>\n",
       "      <td>12500</td>\n",
       "      <td>False</td>\n",
       "      <td>True</td>\n",
       "      <td>False</td>\n",
       "    </tr>\n",
       "    <tr>\n",
       "      <th>4</th>\n",
       "      <td>1</td>\n",
       "      <td>25</td>\n",
       "      <td>male</td>\n",
       "      <td>Lifestlye</td>\n",
       "      <td>Australia</td>\n",
       "      <td>Urban</td>\n",
       "      <td>Software Engineer</td>\n",
       "      <td>14566</td>\n",
       "      <td>False</td>\n",
       "      <td>True</td>\n",
       "      <td>True</td>\n",
       "    </tr>\n",
       "    <tr>\n",
       "      <th>...</th>\n",
       "      <td>...</td>\n",
       "      <td>...</td>\n",
       "      <td>...</td>\n",
       "      <td>...</td>\n",
       "      <td>...</td>\n",
       "      <td>...</td>\n",
       "      <td>...</td>\n",
       "      <td>...</td>\n",
       "      <td>...</td>\n",
       "      <td>...</td>\n",
       "      <td>...</td>\n",
       "    </tr>\n",
       "    <tr>\n",
       "      <th>995</th>\n",
       "      <td>8</td>\n",
       "      <td>22</td>\n",
       "      <td>female</td>\n",
       "      <td>Lifestlye</td>\n",
       "      <td>United Kingdom</td>\n",
       "      <td>Rural</td>\n",
       "      <td>Marketer Manager</td>\n",
       "      <td>18536</td>\n",
       "      <td>False</td>\n",
       "      <td>True</td>\n",
       "      <td>False</td>\n",
       "    </tr>\n",
       "    <tr>\n",
       "      <th>996</th>\n",
       "      <td>6</td>\n",
       "      <td>40</td>\n",
       "      <td>non-binary</td>\n",
       "      <td>Travel</td>\n",
       "      <td>United Kingdom</td>\n",
       "      <td>Rural</td>\n",
       "      <td>Software Engineer</td>\n",
       "      <td>12711</td>\n",
       "      <td>True</td>\n",
       "      <td>False</td>\n",
       "      <td>False</td>\n",
       "    </tr>\n",
       "    <tr>\n",
       "      <th>997</th>\n",
       "      <td>5</td>\n",
       "      <td>27</td>\n",
       "      <td>non-binary</td>\n",
       "      <td>Travel</td>\n",
       "      <td>United Kingdom</td>\n",
       "      <td>Rural</td>\n",
       "      <td>Student</td>\n",
       "      <td>17595</td>\n",
       "      <td>True</td>\n",
       "      <td>False</td>\n",
       "      <td>True</td>\n",
       "    </tr>\n",
       "    <tr>\n",
       "      <th>998</th>\n",
       "      <td>4</td>\n",
       "      <td>61</td>\n",
       "      <td>female</td>\n",
       "      <td>Sports</td>\n",
       "      <td>Australia</td>\n",
       "      <td>Sub_Urban</td>\n",
       "      <td>Marketer Manager</td>\n",
       "      <td>16273</td>\n",
       "      <td>True</td>\n",
       "      <td>True</td>\n",
       "      <td>False</td>\n",
       "    </tr>\n",
       "    <tr>\n",
       "      <th>999</th>\n",
       "      <td>8</td>\n",
       "      <td>19</td>\n",
       "      <td>female</td>\n",
       "      <td>Travel</td>\n",
       "      <td>Australia</td>\n",
       "      <td>Rural</td>\n",
       "      <td>Student</td>\n",
       "      <td>16284</td>\n",
       "      <td>False</td>\n",
       "      <td>True</td>\n",
       "      <td>False</td>\n",
       "    </tr>\n",
       "  </tbody>\n",
       "</table>\n",
       "<p>1000 rows × 11 columns</p>\n",
       "</div>"
      ],
      "text/plain": [
       "     time_spent  age      gender  interests        location demographics  \\\n",
       "0             3   56        male     Sports  United Kingdom        Urban   \n",
       "1             2   46      female     Travel  United Kingdom        Urban   \n",
       "2             8   32        male     Sports       Australia    Sub_Urban   \n",
       "3             5   60  non-binary     Travel  United Kingdom        Urban   \n",
       "4             1   25        male  Lifestlye       Australia        Urban   \n",
       "..          ...  ...         ...        ...             ...          ...   \n",
       "995           8   22      female  Lifestlye  United Kingdom        Rural   \n",
       "996           6   40  non-binary     Travel  United Kingdom        Rural   \n",
       "997           5   27  non-binary     Travel  United Kingdom        Rural   \n",
       "998           4   61      female     Sports       Australia    Sub_Urban   \n",
       "999           8   19      female     Travel       Australia        Rural   \n",
       "\n",
       "            profession  income  indebt  isHomeOwner  Owns_Car  \n",
       "0    Software Engineer   19774    True        False     False  \n",
       "1              Student   10564    True         True      True  \n",
       "2     Marketer Manager   13258   False        False     False  \n",
       "3              Student   12500   False         True     False  \n",
       "4    Software Engineer   14566   False         True      True  \n",
       "..                 ...     ...     ...          ...       ...  \n",
       "995   Marketer Manager   18536   False         True     False  \n",
       "996  Software Engineer   12711    True        False     False  \n",
       "997            Student   17595    True        False      True  \n",
       "998   Marketer Manager   16273    True         True     False  \n",
       "999            Student   16284   False         True     False  \n",
       "\n",
       "[1000 rows x 11 columns]"
      ]
     },
     "execution_count": 3,
     "metadata": {},
     "output_type": "execute_result"
    }
   ],
   "source": [
    "#create file\n",
    "d = pd.read_csv(\"dummy_data.csv\")\n",
    "df = d[[\"time_spent\", \"age\", \"gender\", \"interests\", \"location\", \"demographics\", \"profession\", \"income\", \"indebt\", \"isHomeOwner\", \"Owns_Car\"]]\n",
    "df"
   ]
  },
  {
   "cell_type": "code",
   "execution_count": 3,
   "metadata": {},
   "outputs": [
    {
     "name": "stderr",
     "output_type": "stream",
     "text": [
      "/var/folders/np/wt2f_g3s42g_nygnmnbpcswr0000gn/T/ipykernel_32564/2201030753.py:2: SettingWithCopyWarning: \n",
      "A value is trying to be set on a copy of a slice from a DataFrame.\n",
      "Try using .loc[row_indexer,col_indexer] = value instead\n",
      "\n",
      "See the caveats in the documentation: https://pandas.pydata.org/pandas-docs/stable/user_guide/indexing.html#returning-a-view-versus-a-copy\n",
      "  df[\"gender\"] = preprocessing.LabelEncoder().fit([\"male\", \"female\", \"non-binary\"]).transform(df[\"gender\"])\n",
      "/var/folders/np/wt2f_g3s42g_nygnmnbpcswr0000gn/T/ipykernel_32564/2201030753.py:3: SettingWithCopyWarning: \n",
      "A value is trying to be set on a copy of a slice from a DataFrame.\n",
      "Try using .loc[row_indexer,col_indexer] = value instead\n",
      "\n",
      "See the caveats in the documentation: https://pandas.pydata.org/pandas-docs/stable/user_guide/indexing.html#returning-a-view-versus-a-copy\n",
      "  df[\"interests\"] = preprocessing.LabelEncoder().fit([\"Sports\", \"Travel\", \"Lifestlye\"]).transform(df[\"interests\"])\n",
      "/var/folders/np/wt2f_g3s42g_nygnmnbpcswr0000gn/T/ipykernel_32564/2201030753.py:4: SettingWithCopyWarning: \n",
      "A value is trying to be set on a copy of a slice from a DataFrame.\n",
      "Try using .loc[row_indexer,col_indexer] = value instead\n",
      "\n",
      "See the caveats in the documentation: https://pandas.pydata.org/pandas-docs/stable/user_guide/indexing.html#returning-a-view-versus-a-copy\n",
      "  df[\"location\"] = preprocessing.LabelEncoder().fit([\"United States\", \"United Kingdom\", \"Australia\"]).transform(df[\"location\"])\n",
      "/var/folders/np/wt2f_g3s42g_nygnmnbpcswr0000gn/T/ipykernel_32564/2201030753.py:5: SettingWithCopyWarning: \n",
      "A value is trying to be set on a copy of a slice from a DataFrame.\n",
      "Try using .loc[row_indexer,col_indexer] = value instead\n",
      "\n",
      "See the caveats in the documentation: https://pandas.pydata.org/pandas-docs/stable/user_guide/indexing.html#returning-a-view-versus-a-copy\n",
      "  df[\"demographics\"] = preprocessing.LabelEncoder().fit([\"Urban\", \"Sub_Urban\", \"Rural\"]).transform(df[\"demographics\"])\n",
      "/var/folders/np/wt2f_g3s42g_nygnmnbpcswr0000gn/T/ipykernel_32564/2201030753.py:6: SettingWithCopyWarning: \n",
      "A value is trying to be set on a copy of a slice from a DataFrame.\n",
      "Try using .loc[row_indexer,col_indexer] = value instead\n",
      "\n",
      "See the caveats in the documentation: https://pandas.pydata.org/pandas-docs/stable/user_guide/indexing.html#returning-a-view-versus-a-copy\n",
      "  df[\"profession\"] = preprocessing.LabelEncoder().fit([\"Student\", \"Software Engineer\", \"Marketer Manager\"]).transform(df[\"profession\"]) #these throw harmless warnings.\n",
      "/var/folders/np/wt2f_g3s42g_nygnmnbpcswr0000gn/T/ipykernel_32564/2201030753.py:7: SettingWithCopyWarning: \n",
      "A value is trying to be set on a copy of a slice from a DataFrame.\n",
      "Try using .loc[row_indexer,col_indexer] = value instead\n",
      "\n",
      "See the caveats in the documentation: https://pandas.pydata.org/pandas-docs/stable/user_guide/indexing.html#returning-a-view-versus-a-copy\n",
      "  df[\"indebt\"] = preprocessing.LabelEncoder().fit([\"False\", \"True\"]).transform(df[\"indebt\"])\n",
      "/var/folders/np/wt2f_g3s42g_nygnmnbpcswr0000gn/T/ipykernel_32564/2201030753.py:8: SettingWithCopyWarning: \n",
      "A value is trying to be set on a copy of a slice from a DataFrame.\n",
      "Try using .loc[row_indexer,col_indexer] = value instead\n",
      "\n",
      "See the caveats in the documentation: https://pandas.pydata.org/pandas-docs/stable/user_guide/indexing.html#returning-a-view-versus-a-copy\n",
      "  df[\"isHomeOwner\"] = preprocessing.LabelEncoder().fit([\"False\", \"True\"]).transform(df[\"isHomeOwner\"])\n",
      "/var/folders/np/wt2f_g3s42g_nygnmnbpcswr0000gn/T/ipykernel_32564/2201030753.py:9: SettingWithCopyWarning: \n",
      "A value is trying to be set on a copy of a slice from a DataFrame.\n",
      "Try using .loc[row_indexer,col_indexer] = value instead\n",
      "\n",
      "See the caveats in the documentation: https://pandas.pydata.org/pandas-docs/stable/user_guide/indexing.html#returning-a-view-versus-a-copy\n",
      "  df[\"Owns_Car\"] = preprocessing.LabelEncoder().fit([\"False\", \"True\"]).transform(df[\"Owns_Car\"])\n"
     ]
    }
   ],
   "source": [
    "#clean data\n",
    "df[\"gender\"] = preprocessing.LabelEncoder().fit([\"male\", \"female\", \"non-binary\"]).transform(df[\"gender\"])\n",
    "df[\"interests\"] = preprocessing.LabelEncoder().fit([\"Sports\", \"Travel\", \"Lifestlye\"]).transform(df[\"interests\"])\n",
    "df[\"location\"] = preprocessing.LabelEncoder().fit([\"United States\", \"United Kingdom\", \"Australia\"]).transform(df[\"location\"])\n",
    "df[\"demographics\"] = preprocessing.LabelEncoder().fit([\"Urban\", \"Sub_Urban\", \"Rural\"]).transform(df[\"demographics\"])\n",
    "df[\"profession\"] = preprocessing.LabelEncoder().fit([\"Student\", \"Software Engineer\", \"Marketer Manager\"]).transform(df[\"profession\"]) #these throw harmless warnings.\n",
    "df[\"indebt\"] = preprocessing.LabelEncoder().fit([\"False\", \"True\"]).transform(df[\"indebt\"])\n",
    "df[\"isHomeOwner\"] = preprocessing.LabelEncoder().fit([\"False\", \"True\"]).transform(df[\"isHomeOwner\"])\n",
    "df[\"Owns_Car\"] = preprocessing.LabelEncoder().fit([\"False\", \"True\"]).transform(df[\"Owns_Car\"])\n",
    "X = df[[\"time_spent\", \"age\", \"gender\", \"interests\", \"location\", \"demographics\", \"profession\", \"income\", \"indebt\", \"isHomeOwner\", \"Owns_Car\"]].values.astype(float) "
   ]
  },
  {
   "cell_type": "code",
   "execution_count": 4,
   "metadata": {},
   "outputs": [],
   "source": [
    "#ignore the above warnings. They are harmless and not simple to fix"
   ]
  },
  {
   "cell_type": "code",
   "execution_count": 5,
   "metadata": {},
   "outputs": [],
   "source": [
    "#make variable arrays\n",
    "features = [\"age\", \"gender\", \"interests\", \"demographics\", \"profession\", \"income\", \"indebt\", \"isHomeOwner\", \"Owns_Car\"]\n",
    "ind = df[features]\n",
    "deps = df[[\"time_spent\"]]"
   ]
  },
  {
   "cell_type": "code",
   "execution_count": 6,
   "metadata": {},
   "outputs": [],
   "source": [
    "#normalize data\n",
    "ind = pd.DataFrame(preprocessing.StandardScaler().fit(ind).transform(ind))\n",
    "ind.columns = features\n"
   ]
  },
  {
   "cell_type": "code",
   "execution_count": 7,
   "metadata": {},
   "outputs": [
    {
     "data": {
      "text/html": [
       "<div>\n",
       "<style scoped>\n",
       "    .dataframe tbody tr th:only-of-type {\n",
       "        vertical-align: middle;\n",
       "    }\n",
       "\n",
       "    .dataframe tbody tr th {\n",
       "        vertical-align: top;\n",
       "    }\n",
       "\n",
       "    .dataframe thead th {\n",
       "        text-align: right;\n",
       "    }\n",
       "</style>\n",
       "<table border=\"1\" class=\"dataframe\">\n",
       "  <thead>\n",
       "    <tr style=\"text-align: right;\">\n",
       "      <th></th>\n",
       "      <th>age</th>\n",
       "      <th>gender</th>\n",
       "      <th>interests</th>\n",
       "      <th>demographics</th>\n",
       "      <th>profession</th>\n",
       "      <th>income</th>\n",
       "      <th>indebt</th>\n",
       "      <th>isHomeOwner</th>\n",
       "      <th>Owns_Car</th>\n",
       "    </tr>\n",
       "  </thead>\n",
       "  <tbody>\n",
       "    <tr>\n",
       "      <th>0</th>\n",
       "      <td>1.112882</td>\n",
       "      <td>-0.001228</td>\n",
       "      <td>0.015896</td>\n",
       "      <td>1.244883</td>\n",
       "      <td>0.056541</td>\n",
       "      <td>1.609380</td>\n",
       "      <td>1.006018</td>\n",
       "      <td>-1.016130</td>\n",
       "      <td>-1.081294</td>\n",
       "    </tr>\n",
       "    <tr>\n",
       "      <th>1</th>\n",
       "      <td>0.371652</td>\n",
       "      <td>-1.229356</td>\n",
       "      <td>1.238658</td>\n",
       "      <td>1.244883</td>\n",
       "      <td>1.285703</td>\n",
       "      <td>-1.505106</td>\n",
       "      <td>1.006018</td>\n",
       "      <td>0.984126</td>\n",
       "      <td>0.924818</td>\n",
       "    </tr>\n",
       "    <tr>\n",
       "      <th>2</th>\n",
       "      <td>-0.666069</td>\n",
       "      <td>-0.001228</td>\n",
       "      <td>0.015896</td>\n",
       "      <td>0.018397</td>\n",
       "      <td>-1.172620</td>\n",
       "      <td>-0.594094</td>\n",
       "      <td>-0.994018</td>\n",
       "      <td>-1.016130</td>\n",
       "      <td>-1.081294</td>\n",
       "    </tr>\n",
       "    <tr>\n",
       "      <th>3</th>\n",
       "      <td>1.409373</td>\n",
       "      <td>1.226900</td>\n",
       "      <td>1.238658</td>\n",
       "      <td>1.244883</td>\n",
       "      <td>1.285703</td>\n",
       "      <td>-0.850422</td>\n",
       "      <td>-0.994018</td>\n",
       "      <td>0.984126</td>\n",
       "      <td>-1.081294</td>\n",
       "    </tr>\n",
       "    <tr>\n",
       "      <th>4</th>\n",
       "      <td>-1.184929</td>\n",
       "      <td>-0.001228</td>\n",
       "      <td>-1.206866</td>\n",
       "      <td>1.244883</td>\n",
       "      <td>0.056541</td>\n",
       "      <td>-0.151776</td>\n",
       "      <td>-0.994018</td>\n",
       "      <td>0.984126</td>\n",
       "      <td>0.924818</td>\n",
       "    </tr>\n",
       "  </tbody>\n",
       "</table>\n",
       "</div>"
      ],
      "text/plain": [
       "        age    gender  interests  demographics  profession    income  \\\n",
       "0  1.112882 -0.001228   0.015896      1.244883    0.056541  1.609380   \n",
       "1  0.371652 -1.229356   1.238658      1.244883    1.285703 -1.505106   \n",
       "2 -0.666069 -0.001228   0.015896      0.018397   -1.172620 -0.594094   \n",
       "3  1.409373  1.226900   1.238658      1.244883    1.285703 -0.850422   \n",
       "4 -1.184929 -0.001228  -1.206866      1.244883    0.056541 -0.151776   \n",
       "\n",
       "     indebt  isHomeOwner  Owns_Car  \n",
       "0  1.006018    -1.016130 -1.081294  \n",
       "1  1.006018     0.984126  0.924818  \n",
       "2 -0.994018    -1.016130 -1.081294  \n",
       "3 -0.994018     0.984126 -1.081294  \n",
       "4 -0.994018     0.984126  0.924818  "
      ]
     },
     "execution_count": 7,
     "metadata": {},
     "output_type": "execute_result"
    }
   ],
   "source": [
    "#inspect data\n",
    "ind.head()"
   ]
  },
  {
   "cell_type": "code",
   "execution_count": 8,
   "metadata": {},
   "outputs": [],
   "source": [
    "#create a list of all possible combinations of features\n",
    "feature_combs = []\n",
    "for length in range(1, len(features) + 1):\n",
    "    feature_combs.extend(list(combinations(features, length)))"
   ]
  },
  {
   "cell_type": "code",
   "execution_count": 9,
   "metadata": {},
   "outputs": [
    {
     "data": {
      "text/plain": [
       "511"
      ]
     },
     "execution_count": 9,
     "metadata": {},
     "output_type": "execute_result"
    }
   ],
   "source": [
    "len(feature_combs)"
   ]
  },
  {
   "cell_type": "code",
   "execution_count": 10,
   "metadata": {},
   "outputs": [],
   "source": [
    "acc_list = []\n",
    "for comb in feature_combs:\n",
    "    comb_ind = ind[list(comb)]\n",
    "    train_d, test_d, train_i, test_i = train_test_split(deps, comb_ind, test_size=0.2, random_state=4) #split data\n",
    "    for k in range(20, 200): #this loop finds the the accuracy for 100<k<300\n",
    "        m = KNeighborsClassifier(n_neighbors = k, n_jobs = -1).fit(train_i, np.ravel(train_d)) #fits a model for k = k\n",
    "        yhat = m.predict(test_i)  #generates predictions for model m on test set\n",
    "        acc = metrics.accuracy_score(test_d, yhat) #gets accuracy score on test set\n",
    "        acc_list.append([acc, k])"
   ]
  },
  {
   "cell_type": "code",
   "execution_count": 11,
   "metadata": {},
   "outputs": [
    {
     "data": {
      "text/plain": [
       "[0.23, 55]"
      ]
     },
     "execution_count": 11,
     "metadata": {},
     "output_type": "execute_result"
    }
   ],
   "source": [
    "max(acc_list)"
   ]
  },
  {
   "cell_type": "code",
   "execution_count": 12,
   "metadata": {},
   "outputs": [],
   "source": [
    "# this is 23% accuracy--better than random (11.1%), but clearly not very good. Let's try if it can predict whether it will be less than or greater than some value (binary)."
   ]
  },
  {
   "cell_type": "code",
   "execution_count": 13,
   "metadata": {},
   "outputs": [
    {
     "name": "stdout",
     "output_type": "stream",
     "text": [
      "<bound method NDFrame.head of      time_spent\n",
      "0             3\n",
      "1             2\n",
      "2             8\n",
      "3             5\n",
      "4             1\n",
      "..          ...\n",
      "995           8\n",
      "996           6\n",
      "997           5\n",
      "998           4\n",
      "999           8\n",
      "\n",
      "[1000 rows x 1 columns]>\n"
     ]
    },
    {
     "data": {
      "text/plain": [
       "array([0, 0, 1, 1, 0])"
      ]
     },
     "execution_count": 13,
     "metadata": {},
     "output_type": "execute_result"
    }
   ],
   "source": [
    "print(deps.head)\n",
    "new_deps = []\n",
    "for cat in deps.time_spent:\n",
    "    if int(cat) > 4: new_deps.append(1)\n",
    "    else: new_deps.append(0)\n",
    "new_deps = np.asarray(new_deps)\n",
    "new_deps[0:5]"
   ]
  },
  {
   "cell_type": "code",
   "execution_count": 18,
   "metadata": {},
   "outputs": [],
   "source": [
    "acc_list2 = []\n",
    "\n",
    "train_d, test_d, train_i, test_i = train_test_split(new_deps, comb_ind, test_size=0.2, random_state=4) #split data\n",
    "for k in range(20, 200): #this loop finds the the accuracy for 100<k<300\n",
    "    m = KNeighborsClassifier(n_neighbors = k, n_jobs = -1).fit(train_i, np.ravel(train_d)) #fits a model for k = k\n",
    "    yhat = m.predict(test_i)  #generates predictions for model m on test set\n",
    "    acc = metrics.accuracy_score(test_d, yhat) #gets accuracy score on test set\n",
    "    acc_list2.append([acc, k])"
   ]
  },
  {
   "cell_type": "code",
   "execution_count": 19,
   "metadata": {},
   "outputs": [
    {
     "data": {
      "text/plain": [
       "[0.565, 82]"
      ]
     },
     "execution_count": 19,
     "metadata": {},
     "output_type": "execute_result"
    }
   ],
   "source": [
    "max(acc_list2)"
   ]
  },
  {
   "cell_type": "code",
   "execution_count": null,
   "metadata": {},
   "outputs": [],
   "source": [
    "#only slightly better than average. Let's try Logistic Regression next"
   ]
  }
 ],
 "metadata": {
  "kernelspec": {
   "display_name": "Python 3",
   "language": "python",
   "name": "python3"
  },
  "language_info": {
   "codemirror_mode": {
    "name": "ipython",
    "version": 3
   },
   "file_extension": ".py",
   "mimetype": "text/x-python",
   "name": "python",
   "nbconvert_exporter": "python",
   "pygments_lexer": "ipython3",
   "version": "3.11.9"
  }
 },
 "nbformat": 4,
 "nbformat_minor": 2
}
